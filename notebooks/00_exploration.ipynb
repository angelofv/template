{
 "cells": [
  {
   "cell_type": "code",
   "execution_count": null,
   "id": "ee9bba8d",
   "metadata": {},
   "outputs": [],
   "source": [
    "# Template"
   ]
  }
 ],
 "metadata": {
  "language_info": {
   "name": "python"
  }
 },
 "nbformat": 4,
 "nbformat_minor": 5
}
